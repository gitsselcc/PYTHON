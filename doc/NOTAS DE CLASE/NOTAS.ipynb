{
 "cells": [
  {
   "cell_type": "code",
   "execution_count": 3,
   "metadata": {},
   "outputs": [
    {
     "data": {
      "text/plain": [
       "('P', 'y', 't', 'h', 'o', 'n')"
      ]
     },
     "execution_count": 3,
     "metadata": {},
     "output_type": "execute_result"
    }
   ],
   "source": [
    "tupla_desde_cadena = tuple(\"Python\")\n",
    "tupla_desde_cadena"
   ]
  },
  {
   "cell_type": "code",
   "execution_count": 4,
   "metadata": {},
   "outputs": [
    {
     "data": {
      "text/plain": [
       "tuple[1, 2, 3]"
      ]
     },
     "execution_count": 4,
     "metadata": {},
     "output_type": "execute_result"
    }
   ],
   "source": [
    "tupla_desde_lista = tuple [1,2,3]\n",
    "tupla_desde_lista"
   ]
  },
  {
   "cell_type": "code",
   "execution_count": null,
   "metadata": {},
   "outputs": [
    {
     "name": "stdout",
     "output_type": "stream",
     "text": [
      "a\n",
      "c\n",
      "d\n",
      "b\n"
     ]
    }
   ],
   "source": [
    "tupla = (\"a\", \"b\", \"c\", \"d\")\n",
    "print(tupla[0])  \n",
    "print(tupla[2]) \n",
    "print(tupla[-1]) \n",
    "print(tupla[-3])  "
   ]
  },
  {
   "cell_type": "code",
   "execution_count": 8,
   "metadata": {},
   "outputs": [
    {
     "name": "stdout",
     "output_type": "stream",
     "text": [
      "3\n"
     ]
    }
   ],
   "source": [
    "tupla = (\"1\", \"2\", \"3\", [1,2,3])\n",
    "print (tupla[3][2])\n"
   ]
  },
  {
   "cell_type": "markdown",
   "metadata": {},
   "source": [
    "Si tengo una tupla, esta es inmutable, si tengo un objeto mutable dentro de la tupla si puedo hacer cambios en esta."
   ]
  },
  {
   "cell_type": "code",
   "execution_count": 9,
   "metadata": {},
   "outputs": [
    {
     "name": "stdout",
     "output_type": "stream",
     "text": [
      "(20, 30, 40)\n",
      "(10, 20, 30)\n",
      "(40, 50, 60, 70)\n",
      "(10, 30, 50, 70)\n",
      "(70, 50, 30, 10)\n",
      "(70, 60, 50, 40, 30, 20, 10)\n",
      "(30, 50, 70)\n"
     ]
    }
   ],
   "source": [
    "tupla = (10, 20, 30, 40, 50, 60, 70)\n",
    "print(tupla[1:4])   \n",
    "print(tupla[:3])   \n",
    "print(tupla[3:])    \n",
    "print(tupla[::2])   \n",
    "print(tupla[::-2])  \n",
    "print(tupla[::-1])\n",
    "print(tupla[2::2]) "
   ]
  },
  {
   "cell_type": "markdown",
   "metadata": {},
   "source": [
    "* En las tuplas, el corte es excluyente, esto quiere decir que no contara el ultimo elemento a la derecha.\n",
    "* Si no pones un numero en el corte al inicio, este toma el valor del primer elemento.\n",
    "* Si no pones un numero en el corte al final, este toma a partir del primer valor dado hasta que la tupla termine.\n",
    "* Dos veces :: nos indica que la tupla ira saltando segun el numero que indiquemos al final, si colocamos un numero negativo lo iniciaria al reves (iniciando desde el fin de la tupla hacia la izquierda)"
   ]
  },
  {
   "cell_type": "code",
   "execution_count": 10,
   "metadata": {},
   "outputs": [
    {
     "name": "stdout",
     "output_type": "stream",
     "text": [
      "True\n"
     ]
    }
   ],
   "source": [
    "secuencia = tuple(\"AATTAA\")\n",
    "print(secuencia == secuencia[::-1])"
   ]
  },
  {
   "cell_type": "code",
   "execution_count": 11,
   "metadata": {},
   "outputs": [
    {
     "name": "stdout",
     "output_type": "stream",
     "text": [
      "2\n",
      "2\n"
     ]
    }
   ],
   "source": [
    "tupla = (\"a\", \"b\", \"c\", \"a\", \"d\")\n",
    "print(tupla.index(\"c\"))  \n",
    "print(tupla.count(\"a\")) "
   ]
  },
  {
   "cell_type": "code",
   "execution_count": 13,
   "metadata": {},
   "outputs": [
    {
     "name": "stdout",
     "output_type": "stream",
     "text": [
      "(0, 1, 4, 9, 16)\n"
     ]
    }
   ],
   "source": [
    "cuadrados = tuple(x**2 for x in range(5))\n",
    "print (cuadrados)"
   ]
  },
  {
   "cell_type": "markdown",
   "metadata": {},
   "source": [
    "\n",
    "1. `range(5)`:\n",
    "   - Genera un iterable de números desde `0` hasta `4` (no incluye el `5`).\n",
    "   - Es equivalente a `[0, 1, 2, 3, 4]`.\n",
    "\n",
    "2. `x**2`:\n",
    "   - Eleva al cuadrado cada número generado por `range(5)`. Por ejemplo:\n",
    "     - Para `x=0`, el resultado será `0**2 = 0`.\n",
    "     - Para `x=1`, el resultado será `1**2 = 1`.\n",
    "     - Para `x=2`, el resultado será `2**2 = 4`.\n",
    "     - Para `x=3`, el resultado será `3**2 = 9`.\n",
    "     - Para `x=4`, el resultado será `4**2 = 16`.\n",
    "\n",
    "3. `for x in range(5)`:\n",
    "   - Itera sobre cada número (`x`) generado por `range(5)`.\n",
    "\n",
    "4. `tuple(...)`:\n",
    "   - Convierte los valores generados (en este caso, los cuadrados de los números) en una tupla, que es inmutable.\n",
    "   - Resultado final: `(0, 1, 4, 9, 16)`.\n"
   ]
  }
 ],
 "metadata": {
  "kernelspec": {
   "display_name": "Python 3",
   "language": "python",
   "name": "python3"
  },
  "language_info": {
   "codemirror_mode": {
    "name": "ipython",
    "version": 3
   },
   "file_extension": ".py",
   "mimetype": "text/x-python",
   "name": "python",
   "nbconvert_exporter": "python",
   "pygments_lexer": "ipython3",
   "version": "3.13.2"
  }
 },
 "nbformat": 4,
 "nbformat_minor": 2
}
