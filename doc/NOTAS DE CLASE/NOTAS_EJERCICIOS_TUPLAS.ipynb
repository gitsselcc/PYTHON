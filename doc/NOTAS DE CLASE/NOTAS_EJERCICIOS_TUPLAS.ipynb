{
 "cells": [
  {
   "cell_type": "code",
   "execution_count": 4,
   "metadata": {},
   "outputs": [
    {
     "name": "stdout",
     "output_type": "stream",
     "text": [
      "('A', 'T', 'G', 'C', 'G', 'T', 'A', 'G', 'C')\n",
      "A T G C G T A G C "
     ]
    }
   ],
   "source": [
    "secuencia = \"ATGCGTAGC\"\n",
    "tupla = tuple(secuencia)\n",
    "print (tupla)\n",
    "for base in secuencia:\n",
    "    print(base, end=\" \")"
   ]
  },
  {
   "cell_type": "code",
   "execution_count": 11,
   "metadata": {},
   "outputs": [
    {
     "name": "stdout",
     "output_type": "stream",
     "text": [
      "('A', 'T', 'G', 'C', 'G')\n",
      "('A', 'G', 'C')\n",
      "('C', 'G', 'A', 'T', 'G', 'C', 'G', 'T', 'A')\n"
     ]
    }
   ],
   "source": [
    "secuencia = \"ATGCGTAGC\"\n",
    "tupla = tuple(secuencia)\n",
    "primeros_cinco = tupla[0:5]\n",
    "print (primeros_cinco)\n",
    "ultimos_tres = tupla [-3:]\n",
    "print (ultimos_tres)\n",
    "secuencia_invertida = tupla [::-1]\n",
    "print (secuencia_invertida)"
   ]
  },
  {
   "cell_type": "code",
   "execution_count": 14,
   "metadata": {},
   "outputs": [
    {
     "name": "stdout",
     "output_type": "stream",
     "text": [
      "La base 'A' esta 2 veces\n",
      "La base 'T' esta 3 veces\n",
      "La base 'G' esta 2 veces\n",
      "La base 'C' esta 2 veces\n"
     ]
    }
   ],
   "source": [
    "tupla_bases = tuple(\"ATGCTTCGA\")\n",
    "bases = ['A', 'T', 'G', 'C']\n",
    "for base in bases:\n",
    "    cantidad = tupla_bases.count(base)\n",
    "    print(f\"La base '{base}' esta {cantidad} veces\")\n"
   ]
  }
 ],
 "metadata": {
  "kernelspec": {
   "display_name": "Python 3",
   "language": "python",
   "name": "python3"
  },
  "language_info": {
   "codemirror_mode": {
    "name": "ipython",
    "version": 3
   },
   "file_extension": ".py",
   "mimetype": "text/x-python",
   "name": "python",
   "nbconvert_exporter": "python",
   "pygments_lexer": "ipython3",
   "version": "3.13.2"
  }
 },
 "nbformat": 4,
 "nbformat_minor": 2
}
