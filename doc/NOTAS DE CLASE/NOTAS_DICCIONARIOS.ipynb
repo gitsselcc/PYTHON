{
 "cells": [
  {
   "cell_type": "code",
   "execution_count": null,
   "metadata": {},
   "outputs": [
    {
     "name": "stdout",
     "output_type": "stream",
     "text": [
      "{'nombre': 'lacZ', 'longitud': 1200, 'producto': 'β-galactosidasa'}\n",
      "lacZ\n",
      "None\n"
     ]
    }
   ],
   "source": [
    "diccionario_vacio = {}\n",
    "gen = {\n",
    "    \"nombre\": \"lacZ\",\n",
    "    \"longitud\": 1200,\n",
    "    \"producto\": \"β-galactosidasa\"\n",
    "}\n",
    "print (gen)\n",
    "\n",
    "print(gen[\"nombre\"])\n",
    "print(gen.get(\"hebra\")) #Aqui no habiamos definido \"hebra\" en nuestro diccionario\n",
    "#Agregar nuevos elementos al diccionario"
   ]
  },
  {
   "cell_type": "markdown",
   "metadata": {},
   "source": [
    "Agregar valores al diccionario o modificar valores\n",
    "gen[\"hebra\"] = \"+\"   Agrega un nuevo elemento\n",
    "\n",
    "gen[\"producto\"] = \"enzima β-galactosidasa\"       Cambia el valor de un elemento preexistente\n",
    "\n",
    "Elimina un elemento\n",
    "del gen[\"longitud\"]"
   ]
  },
  {
   "cell_type": "code",
   "execution_count": 3,
   "metadata": {},
   "outputs": [
    {
     "data": {
      "text/plain": [
       "{'A': 2, 'T': 3}"
      ]
     },
     "execution_count": 3,
     "metadata": {},
     "output_type": "execute_result"
    }
   ],
   "source": [
    "pares = [(\"A\", 2), (\"T\", 3)]\n",
    "diccionario = dict(pares)\n",
    "diccionario"
   ]
  },
  {
   "cell_type": "code",
   "execution_count": 7,
   "metadata": {},
   "outputs": [
    {
     "name": "stdout",
     "output_type": "stream",
     "text": [
      "nombre : lacZ\n",
      "longitud : 1200\n",
      "producto : β-galactosidasa\n"
     ]
    }
   ],
   "source": [
    "gen = {\n",
    "    \"nombre\": \"lacZ\",\n",
    "    \"longitud\": 1200,\n",
    "    \"producto\": \"β-galactosidasa\"\n",
    "}\n",
    "for clave in gen:\n",
    "    print(clave, \":\", gen[clave])"
   ]
  },
  {
   "cell_type": "code",
   "execution_count": 10,
   "metadata": {},
   "outputs": [
    {
     "name": "stdout",
     "output_type": "stream",
     "text": [
      "β-galactosidasa\n"
     ]
    }
   ],
   "source": [
    "genes = {\n",
    "    \"lacZ\": {\"producto\": \"β-galactosidasa\", \"longitud\": 1200},\n",
    "    \"lacY\": {\"producto\": \"permeasa\", \"longitud\": 1050}\n",
    "}\n",
    "print(genes[\"lacZ\"][\"producto\"])"
   ]
  },
  {
   "cell_type": "markdown",
   "metadata": {},
   "source": [
    "LacZ en este caso es una llave que tiene como valor otro diccionario contenido\n",
    "LacY tambien es una llave que igual contiene un diccionario aparte\n",
    "\n",
    "Producto, permesaa y longitud, son llaves dentro de la llave LacY, lo que se encuentre despues de los (:) serian los valores de la llave contenida en la otra llave"
   ]
  }
 ],
 "metadata": {
  "kernelspec": {
   "display_name": "Python 3",
   "language": "python",
   "name": "python3"
  },
  "language_info": {
   "codemirror_mode": {
    "name": "ipython",
    "version": 3
   },
   "file_extension": ".py",
   "mimetype": "text/x-python",
   "name": "python",
   "nbconvert_exporter": "python",
   "pygments_lexer": "ipython3",
   "version": "3.13.2"
  }
 },
 "nbformat": 4,
 "nbformat_minor": 2
}
